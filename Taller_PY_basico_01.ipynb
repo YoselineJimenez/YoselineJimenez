{
  "nbformat": 4,
  "nbformat_minor": 0,
  "metadata": {
    "colab": {
      "provenance": [],
      "toc_visible": true,
      "include_colab_link": true
    },
    "kernelspec": {
      "name": "python3",
      "display_name": "Python 3"
    },
    "language_info": {
      "name": "python"
    }
  },
  "cells": [
    {
      "cell_type": "markdown",
      "metadata": {
        "id": "view-in-github",
        "colab_type": "text"
      },
      "source": [
        "<a href=\"https://colab.research.google.com/github/YoselineJimenez/YoselineJimenez/blob/main/Taller_PY_basico_01.ipynb\" target=\"_parent\"><img src=\"https://colab.research.google.com/assets/colab-badge.svg\" alt=\"Open In Colab\"/></a>"
      ]
    },
    {
      "cell_type": "markdown",
      "source": [
        "# Fundamentos"
      ],
      "metadata": {
        "id": "-rtYHpioGsMb"
      }
    },
    {
      "cell_type": "code",
      "execution_count": null,
      "metadata": {
        "colab": {
          "base_uri": "https://localhost:8080/"
        },
        "id": "5b0SfJwBGq9a",
        "outputId": "51965db3-0e69-4d94-e800-d9df1078746d"
      },
      "outputs": [
        {
          "output_type": "stream",
          "name": "stdout",
          "text": [
            "Hola Mundo\n"
          ]
        }
      ],
      "source": [
        "# Regla de sintaxis -> Reglas de escritura\n",
        "# Regla 1: Todos los textos van entre comillas\n",
        "print(\"Hola Mundo\")"
      ]
    },
    {
      "cell_type": "code",
      "source": [
        "# Para hacer uso de docstrings, se puede usar un triple\n",
        "# doble comillado\n",
        "# https://www.w3schools.com/python/gloss_python_escape_characters.asp\n",
        "print(\"\"\"\n",
        "When you walk through a storm\n",
        "Hold your head up high\n",
        "And don't be afraid of the dark\n",
        "At the end of a storm\n",
        "There's a golden sky\n",
        "And the sweet silver song of a lark\n",
        "Walk on through the wind\n",
        "Walk on through the rain\n",
        "For your dreams be tossed and blown\n",
        "Walk on, walk on\n",
        "With hope in your heart\n",
        "And you'll never walk alone\n",
        "You'll never walk alone\n",
        "Walk on, walk on\n",
        "With hope in your heart\n",
        "And you'll never walk alone\n",
        "You'll never walk alone\n",
        "\"\"\")"
      ],
      "metadata": {
        "colab": {
          "base_uri": "https://localhost:8080/"
        },
        "id": "4RP-rKuEH23f",
        "outputId": "fd0dd8fe-e019-412f-81f4-7e00b1ec1554"
      },
      "execution_count": null,
      "outputs": [
        {
          "output_type": "stream",
          "name": "stdout",
          "text": [
            "\n",
            "When you walk through a storm\n",
            "Hold your head up high\n",
            "And don't be afraid of the dark\n",
            "At the end of a storm\n",
            "There's a golden sky\n",
            "And the sweet silver song of a lark\n",
            "Walk on through the wind\n",
            "Walk on through the rain\n",
            "For your dreams be tossed and blown\n",
            "Walk on, walk on\n",
            "With hope in your heart\n",
            "And you'll never walk alone\n",
            "You'll never walk alone\n",
            "Walk on, walk on\n",
            "With hope in your heart\n",
            "And you'll never walk alone\n",
            "You'll never walk alone\n",
            "\n"
          ]
        }
      ]
    },
    {
      "cell_type": "code",
      "source": [],
      "metadata": {
        "id": "anli891tGGBh"
      },
      "execution_count": null,
      "outputs": []
    },
    {
      "cell_type": "code",
      "source": [],
      "metadata": {
        "id": "WHJiR2OsGHS4"
      },
      "execution_count": null,
      "outputs": []
    },
    {
      "cell_type": "code",
      "source": [
        "# \\n -> Salto de línea\n",
        "# \\t -> Tabulación\n",
        "print(\"Edgar\\n\\tAvalos\\n\\t\\tGauna\")"
      ],
      "metadata": {
        "colab": {
          "base_uri": "https://localhost:8080/"
        },
        "id": "5JGIvLI2IKHM",
        "outputId": "f8c4fcec-30ee-49eb-9449-41b71ff1e541"
      },
      "execution_count": null,
      "outputs": [
        {
          "output_type": "stream",
          "name": "stdout",
          "text": [
            "Edgar\n",
            "\tAvalos\n",
            "\t\tGauna\n"
          ]
        }
      ]
    },
    {
      "cell_type": "code",
      "source": [
        "# Todas las celdas de código van a estar comunicadas entre si\n",
        "nombre=\"Edgar\"\n",
        "edad=37"
      ],
      "metadata": {
        "id": "gdFSsIvEJH90"
      },
      "execution_count": null,
      "outputs": []
    },
    {
      "cell_type": "code",
      "source": [
        "print(\"Hola, mi nimbre es\", nombre)\n",
        "print(\"y tengo\", edad, \"años\")"
      ],
      "metadata": {
        "colab": {
          "base_uri": "https://localhost:8080/"
        },
        "id": "y-N0nOwlJp4Y",
        "outputId": "fe8e1ef6-ea44-48e4-afb4-26ddab9f9afb"
      },
      "execution_count": null,
      "outputs": [
        {
          "output_type": "stream",
          "name": "stdout",
          "text": [
            "Hola, mi nimbre es Edgar\n",
            "y tengo 37 años\n"
          ]
        }
      ]
    },
    {
      "cell_type": "markdown",
      "source": [
        "Esto es una casilla de texto ⚡"
      ],
      "metadata": {
        "id": "Lhd3NWmqKD_g"
      }
    },
    {
      "cell_type": "markdown",
      "source": [
        "Utilizando $\\LaTeX$ (https://www.latex-project.org/help/documentation/):\n",
        "$$\n",
        "\\large\n",
        "y=mx+b\n",
        "$$"
      ],
      "metadata": {
        "id": "iSCvctaiKb18"
      }
    },
    {
      "cell_type": "markdown",
      "source": [
        "<img src=\"https://unamismavision.up.edu.mx/wp-content/uploads/2022/07/logo-nuevo-dorado.png\" width=300>"
      ],
      "metadata": {
        "id": "PYi8AL-CL7v6"
      }
    },
    {
      "cell_type": "markdown",
      "source": [
        "<table>\n",
        "  <tr>\n",
        "    <th>Company</th>\n",
        "    <th>Contact</th>\n",
        "    <th>Country</th>\n",
        "  </tr>\n",
        "  <tr>\n",
        "    <td>Alfreds Futterkiste</td>\n",
        "    <td>Maria Anders</td>\n",
        "    <td>Germany</td>\n",
        "  </tr>\n",
        "  <tr>\n",
        "    <td>Centro comercial Moctezuma</td>\n",
        "    <td>Francisco Chang</td>\n",
        "    <td>Mexico</td>\n",
        "  </tr>\n",
        "</table>"
      ],
      "metadata": {
        "id": "83QQdK7lMWQl"
      }
    },
    {
      "cell_type": "markdown",
      "source": [
        "Esta celda estará haciendo uso de **markdown**\n",
        "\n",
        "https://www.markdownguide.org/"
      ],
      "metadata": {
        "id": "FaZ2yL1nM_lg"
      }
    },
    {
      "cell_type": "markdown",
      "source": [
        "---\n",
        "| Dato 1 | Dato 2 | Dato 3 |\n",
        "---"
      ],
      "metadata": {
        "id": "KL_dm-PXNf0H"
      }
    },
    {
      "cell_type": "markdown",
      "source": [
        "# Python\n",
        "\n"
      ],
      "metadata": {
        "id": "kyXRGQR1OH-R"
      }
    },
    {
      "cell_type": "markdown",
      "source": [
        "*.ipynb -> Cuaderno Jupyter\n",
        "\n",
        "*.py -> Script de Python"
      ],
      "metadata": {
        "id": "SuP1y3H6OUva"
      }
    },
    {
      "cell_type": "code",
      "source": [
        "# Los colores en Python\n",
        "year=1987\n",
        "print(\"Yo nací en el año\", year)"
      ],
      "metadata": {
        "colab": {
          "base_uri": "https://localhost:8080/"
        },
        "id": "gt3M3x3lJu6B",
        "outputId": "95270145-dbe9-4308-9e2e-805571a650c8"
      },
      "execution_count": null,
      "outputs": [
        {
          "output_type": "stream",
          "name": "stdout",
          "text": [
            "Yo nací en el año 1987\n"
          ]
        }
      ]
    },
    {
      "cell_type": "markdown",
      "source": [
        "* **Verde**: Comentarios dentro del código\n",
        "* **Amarillo/Naranja/Mostaza**: Funciones preprogramadas\n",
        "* **Verde/Azulado**: Números\n",
        "* **Rojo**: Cadenas de texto (strings)\n",
        "* **Azul/Morado**: Símbolos de agrupación / Palabras reservadas\n",
        "* **Negro**: Código en general"
      ],
      "metadata": {
        "id": "rkJN5uufPytV"
      }
    },
    {
      "cell_type": "code",
      "source": [
        "for n in range(7):\n",
        "  print(n)"
      ],
      "metadata": {
        "colab": {
          "base_uri": "https://localhost:8080/"
        },
        "id": "dURn77lLPuF0",
        "outputId": "cd49432f-5d8d-4a7e-f3a9-62068f56bade"
      },
      "execution_count": null,
      "outputs": [
        {
          "output_type": "stream",
          "name": "stdout",
          "text": [
            "0\n",
            "1\n",
            "2\n",
            "3\n",
            "4\n",
            "5\n",
            "6\n"
          ]
        }
      ]
    },
    {
      "cell_type": "markdown",
      "source": [
        "# Operaciones básicas"
      ],
      "metadata": {
        "id": "bChMGlTQRqmp"
      }
    },
    {
      "cell_type": "code",
      "source": [
        "# shift + enter -> Ejecución de la celda actual\n",
        "# Jerarquía de operaciones y tipos de variables\n",
        "\n",
        "# Variables simples:\n",
        "var1=5          # Integers\n",
        "var2=3.1416     # Float\n",
        "var3=\"Ardilla\"  # Strings\n",
        "var4=True       # Bool"
      ],
      "metadata": {
        "id": "uQWIgXDkRtkW"
      },
      "execution_count": null,
      "outputs": []
    },
    {
      "cell_type": "markdown",
      "source": [
        "<img src=\"https://math3logic.com/wp-content/uploads/2023/03/Jerarquia-de-operaciones-6-min.png\" width=400>"
      ],
      "metadata": {
        "id": "dvEVKg_QS2d-"
      }
    },
    {
      "cell_type": "code",
      "source": [
        "# Suma se realiza con el signo +\n",
        "var1+var2"
      ],
      "metadata": {
        "colab": {
          "base_uri": "https://localhost:8080/"
        },
        "id": "dw089H22TEt7",
        "outputId": "60be7d69-fc72-4bb8-cefc-2c3edb45e0fc"
      },
      "execution_count": null,
      "outputs": [
        {
          "output_type": "execute_result",
          "data": {
            "text/plain": [
              "8.1416"
            ]
          },
          "metadata": {},
          "execution_count": 9
        }
      ]
    },
    {
      "cell_type": "code",
      "source": [
        "# Resta se realiza con el signo -\n",
        "var1-var2"
      ],
      "metadata": {
        "colab": {
          "base_uri": "https://localhost:8080/"
        },
        "id": "L_e-OKHrRFOP",
        "outputId": "f317f6c6-2271-44f6-9ee3-63c1b3368033"
      },
      "execution_count": null,
      "outputs": [
        {
          "output_type": "execute_result",
          "data": {
            "text/plain": [
              "1.8584"
            ]
          },
          "metadata": {},
          "execution_count": 10
        }
      ]
    },
    {
      "cell_type": "code",
      "source": [
        "# Multipliación se realiza con el signo *\n",
        "var1*var2"
      ],
      "metadata": {
        "colab": {
          "base_uri": "https://localhost:8080/"
        },
        "id": "EIF37rLgTTtz",
        "outputId": "e43fd1fd-c9de-4c35-fe57-6da0457f0c56"
      },
      "execution_count": null,
      "outputs": [
        {
          "output_type": "execute_result",
          "data": {
            "text/plain": [
              "15.708"
            ]
          },
          "metadata": {},
          "execution_count": 11
        }
      ]
    },
    {
      "cell_type": "code",
      "source": [
        "# División se realiza con el signo /\n",
        "var1/var2"
      ],
      "metadata": {
        "colab": {
          "base_uri": "https://localhost:8080/"
        },
        "id": "rNE6l71FTZDh",
        "outputId": "f775852f-5816-4672-988d-080db0461ee5"
      },
      "execution_count": null,
      "outputs": [
        {
          "output_type": "execute_result",
          "data": {
            "text/plain": [
              "1.591545709192768"
            ]
          },
          "metadata": {},
          "execution_count": 12
        }
      ]
    },
    {
      "cell_type": "code",
      "source": [
        "# División tradicional (Entero con decimales)\n",
        "4/3"
      ],
      "metadata": {
        "colab": {
          "base_uri": "https://localhost:8080/"
        },
        "id": "FNfIK8M7Tcqx",
        "outputId": "5aba115c-221e-4612-b38a-bf5bcb229bf2"
      },
      "execution_count": null,
      "outputs": [
        {
          "output_type": "execute_result",
          "data": {
            "text/plain": [
              "1.3333333333333333"
            ]
          },
          "metadata": {},
          "execution_count": 13
        }
      ]
    },
    {
      "cell_type": "code",
      "source": [
        "# División Entera (//)\n",
        "4//3"
      ],
      "metadata": {
        "colab": {
          "base_uri": "https://localhost:8080/"
        },
        "id": "3YkYOYFjUDte",
        "outputId": "da014a42-8539-495f-81c4-79ad4eb2ab65"
      },
      "execution_count": null,
      "outputs": [
        {
          "output_type": "execute_result",
          "data": {
            "text/plain": [
              "1"
            ]
          },
          "metadata": {},
          "execution_count": 14
        }
      ]
    },
    {
      "cell_type": "code",
      "source": [
        "# Módulo de la división (Residuo %)\n",
        "#      _1_\n",
        "#   3 | 4\n",
        "#       1   <- Residuo\n",
        "\n",
        "7%3"
      ],
      "metadata": {
        "colab": {
          "base_uri": "https://localhost:8080/"
        },
        "id": "z-qjP2CEUM6c",
        "outputId": "48c5d11a-9941-40ed-b09e-481f45d874b3"
      },
      "execution_count": null,
      "outputs": [
        {
          "output_type": "execute_result",
          "data": {
            "text/plain": [
              "1"
            ]
          },
          "metadata": {},
          "execution_count": 15
        }
      ]
    },
    {
      "cell_type": "code",
      "source": [
        "7//3"
      ],
      "metadata": {
        "colab": {
          "base_uri": "https://localhost:8080/"
        },
        "id": "o8DWaBSUUi40",
        "outputId": "36967048-2ac5-4f87-f459-2b8038e13a6b"
      },
      "execution_count": null,
      "outputs": [
        {
          "output_type": "execute_result",
          "data": {
            "text/plain": [
              "2"
            ]
          },
          "metadata": {},
          "execution_count": 16
        }
      ]
    },
    {
      "cell_type": "code",
      "source": [
        "# Potencia se realiza con el signo **\n",
        "# base**exp\n",
        "2**3"
      ],
      "metadata": {
        "colab": {
          "base_uri": "https://localhost:8080/"
        },
        "id": "alca_ppEUoTI",
        "outputId": "cc6677eb-1442-4952-b395-efe8ecab93bb"
      },
      "execution_count": null,
      "outputs": [
        {
          "output_type": "execute_result",
          "data": {
            "text/plain": [
              "8"
            ]
          },
          "metadata": {},
          "execution_count": 17
        }
      ]
    },
    {
      "cell_type": "code",
      "source": [
        "# Otra forma es mediante el uso de pow(base,exp)\n",
        "pow(2,3)"
      ],
      "metadata": {
        "colab": {
          "base_uri": "https://localhost:8080/"
        },
        "id": "3FrTKlQVU31-",
        "outputId": "caada1fb-9be7-4061-fa6a-fb4ef462092d"
      },
      "execution_count": null,
      "outputs": [
        {
          "output_type": "execute_result",
          "data": {
            "text/plain": [
              "8"
            ]
          },
          "metadata": {},
          "execution_count": 18
        }
      ]
    },
    {
      "cell_type": "code",
      "source": [
        "# No existe un símbolo para calcular la raíz\n",
        "# En su lugar se ocuparán leyes de potencia\n",
        "\n",
        "# Calculando la raíz cúbica de 8\n",
        "pow(8,(1/3)), 8**(1/3)"
      ],
      "metadata": {
        "colab": {
          "base_uri": "https://localhost:8080/"
        },
        "id": "9ZglhbboU8_K",
        "outputId": "eedf3ec4-6763-4181-d0be-93338d6d0a66"
      },
      "execution_count": null,
      "outputs": [
        {
          "output_type": "execute_result",
          "data": {
            "text/plain": [
              "(2.0, 2.0)"
            ]
          },
          "metadata": {},
          "execution_count": 19
        }
      ]
    },
    {
      "cell_type": "code",
      "source": [
        "# Situaciones que funcionan en Python\n",
        "# Utilizando el signo + y * con strings\n",
        "# + -> Concatenación\n",
        "# * -> Replicar el número de ocasiones que se indique al texto\n",
        "(var3 + \" \")*5"
      ],
      "metadata": {
        "colab": {
          "base_uri": "https://localhost:8080/",
          "height": 36
        },
        "id": "5QF2qrqXVQWX",
        "outputId": "34c3e7d9-b2db-4dda-db27-55379b996c2b"
      },
      "execution_count": null,
      "outputs": [
        {
          "output_type": "execute_result",
          "data": {
            "text/plain": [
              "'Ardilla Ardilla Ardilla Ardilla Ardilla '"
            ],
            "application/vnd.google.colaboratory.intrinsic+json": {
              "type": "string"
            }
          },
          "metadata": {},
          "execution_count": 20
        }
      ]
    },
    {
      "cell_type": "code",
      "source": [
        "# Bool -> (True = 1, False = 0)\n",
        "var4*3"
      ],
      "metadata": {
        "colab": {
          "base_uri": "https://localhost:8080/"
        },
        "id": "KnWtv2x4Woor",
        "outputId": "c1772068-9bfe-4590-c9ef-3ded5019c9d8"
      },
      "execution_count": null,
      "outputs": [
        {
          "output_type": "execute_result",
          "data": {
            "text/plain": [
              "3"
            ]
          },
          "metadata": {},
          "execution_count": 21
        }
      ]
    },
    {
      "cell_type": "markdown",
      "source": [
        "# Nombrando variables"
      ],
      "metadata": {
        "id": "JGasEhpUXHd7"
      }
    },
    {
      "cell_type": "markdown",
      "source": [
        "\n",
        "1.   No utilizar palabras reservadas\n",
        "2.   No utilizar caracteres especiales\n",
        "3.   No utilizar espacios en blanco\n",
        "4.   No iniciar con número\n",
        "\n"
      ],
      "metadata": {
        "id": "HWKf_ZaLXMO7"
      }
    },
    {
      "cell_type": "code",
      "source": [
        "#1var"
      ],
      "metadata": {
        "id": "tTemTBHhYHpK"
      },
      "execution_count": null,
      "outputs": []
    },
    {
      "cell_type": "code",
      "source": [
        "# Al hacer uso de una palabra reservada se ha eliminado\n",
        "# por completo el comportamiento de dicha palabra\n",
        "# en el ambiente de trabajo actual\n",
        "\n",
        "# list=[\"Perro\", \"Gato\", \"Ardilla\"]\n",
        "# list([1,2,3,4])"
      ],
      "metadata": {
        "id": "5JI1ZCcXYRNv"
      },
      "execution_count": null,
      "outputs": []
    },
    {
      "cell_type": "code",
      "source": [
        "print(\"Hola Mundo\")"
      ],
      "metadata": {
        "colab": {
          "base_uri": "https://localhost:8080/"
        },
        "id": "yCWFkmXuY5t2",
        "outputId": "996899e7-3478-4e8e-db62-eab339a32b67"
      },
      "execution_count": null,
      "outputs": [
        {
          "output_type": "stream",
          "name": "stdout",
          "text": [
            "Hola Mundo\n"
          ]
        }
      ]
    },
    {
      "cell_type": "code",
      "source": [
        "# var 1 = \"Universidad Panamericana\"\n",
        "var_1 = \"Universidad Panamericana\""
      ],
      "metadata": {
        "id": "-nYGxCcPZOm2"
      },
      "execution_count": null,
      "outputs": []
    },
    {
      "cell_type": "code",
      "source": [
        "# No usar caracteres especiales\n",
        "# niño=\"Edgar\""
      ],
      "metadata": {
        "id": "0xadTxpyZkvT"
      },
      "execution_count": null,
      "outputs": []
    },
    {
      "cell_type": "markdown",
      "source": [
        "# Errores en Python"
      ],
      "metadata": {
        "id": "gSq_KqYIWeGB"
      }
    },
    {
      "cell_type": "markdown",
      "source": [
        "\n",
        "*   **SyntaxError**: No se respetaron las reglas de escritura de Python\n",
        "*   **NameError**: Se está llamando a un objeto que no existe:\n",
        "*   **TypeError**: Se está utilizando a un objeto de una forma indebida\n",
        "*   **ValueError**: Se está utilizando un argumento de forma incorrecta\n",
        "*   **IndexError**: Se está accediendo a una posición indexada que no existe\n",
        "*   **ZeroDivisionError**: Se está dividiendo un valor entre cero\n",
        "*   **KeyError**: Se está tratando de acceder a una llave que no existe\n",
        "*   **IdentationError**: No se está respetando la identación del bloque\n",
        "\n"
      ],
      "metadata": {
        "id": "8Pd4G1H2ekO_"
      }
    },
    {
      "cell_type": "code",
      "source": [
        "# SyntaxError\n",
        "print(\"Hola Mundo\")\n",
        "print(\"Mi nombre es Edgar\")"
      ],
      "metadata": {
        "colab": {
          "base_uri": "https://localhost:8080/"
        },
        "id": "AKERtNJyVrgL",
        "outputId": "76a8c6d0-60b3-4980-add0-b4eb1774eb44"
      },
      "execution_count": null,
      "outputs": [
        {
          "output_type": "stream",
          "name": "stdout",
          "text": [
            "Hola Mundo\n",
            "Mi nombre es Edgar\n"
          ]
        }
      ]
    },
    {
      "cell_type": "code",
      "source": [
        "# NameError\n",
        "var5=10"
      ],
      "metadata": {
        "id": "v0qq3cWhey6C"
      },
      "execution_count": null,
      "outputs": []
    },
    {
      "cell_type": "code",
      "source": [
        "5*var5"
      ],
      "metadata": {
        "colab": {
          "base_uri": "https://localhost:8080/"
        },
        "id": "LSpOStuVflO2",
        "outputId": "ba85d2f0-ff56-4fe4-bb4b-70bb0ed00aa4"
      },
      "execution_count": null,
      "outputs": [
        {
          "output_type": "execute_result",
          "data": {
            "text/plain": [
              "50"
            ]
          },
          "metadata": {},
          "execution_count": 37
        }
      ]
    },
    {
      "cell_type": "code",
      "source": [
        "# TypeError\n",
        "str(var5) + \" Hola Mundo\""
      ],
      "metadata": {
        "colab": {
          "base_uri": "https://localhost:8080/",
          "height": 36
        },
        "id": "uNtSxyDvfyYr",
        "outputId": "218104fa-c82f-4fcd-d452-d6bbea32d8bc"
      },
      "execution_count": null,
      "outputs": [
        {
          "output_type": "execute_result",
          "data": {
            "text/plain": [
              "'10 Hola Mundo'"
            ],
            "application/vnd.google.colaboratory.intrinsic+json": {
              "type": "string"
            }
          },
          "metadata": {},
          "execution_count": 42
        }
      ]
    },
    {
      "cell_type": "code",
      "source": [
        "# ValueError\n",
        "pow(-1,0.5)"
      ],
      "metadata": {
        "colab": {
          "base_uri": "https://localhost:8080/"
        },
        "id": "-jb4UQx_gVv3",
        "outputId": "7810771f-0ca1-4666-f427-17d87d832254"
      },
      "execution_count": null,
      "outputs": [
        {
          "output_type": "execute_result",
          "data": {
            "text/plain": [
              "(6.123233995736766e-17+1j)"
            ]
          },
          "metadata": {},
          "execution_count": 50
        }
      ]
    },
    {
      "cell_type": "code",
      "source": [
        "# Ejemplos de objetos iterables\n",
        "# (objeto compuesto por elementos):\n",
        "\n",
        "# Textos, Listas, Diccionarios, Tuplas, Arreglos\n",
        "# DF\n",
        "\n",
        "var6=\"Universidad Panamericana\"\n",
        "# Para acceder a un elemento dentro de un objeto\n",
        "# iterable se usan los corchetes\n",
        "# Nota, los índices se calculan de la siguiente forma:\n",
        "# posición - 1\n",
        "var6[0]"
      ],
      "metadata": {
        "colab": {
          "base_uri": "https://localhost:8080/",
          "height": 36
        },
        "id": "k_gAgDhPhsgR",
        "outputId": "984b09e3-294a-4301-e04b-a795954866ce"
      },
      "execution_count": null,
      "outputs": [
        {
          "output_type": "execute_result",
          "data": {
            "text/plain": [
              "'U'"
            ],
            "application/vnd.google.colaboratory.intrinsic+json": {
              "type": "string"
            }
          },
          "metadata": {},
          "execution_count": 51
        }
      ]
    },
    {
      "cell_type": "code",
      "source": [
        "tupla=(\"Red\", \"Green\", \"Blue\")\n",
        "tupla[0]"
      ],
      "metadata": {
        "colab": {
          "base_uri": "https://localhost:8080/",
          "height": 36
        },
        "id": "s-FMnCDKjEmZ",
        "outputId": "6c033cb5-7144-4c7a-a880-4bf706e307ac"
      },
      "execution_count": null,
      "outputs": [
        {
          "output_type": "execute_result",
          "data": {
            "text/plain": [
              "'Red'"
            ],
            "application/vnd.google.colaboratory.intrinsic+json": {
              "type": "string"
            }
          },
          "metadata": {},
          "execution_count": 52
        }
      ]
    },
    {
      "cell_type": "code",
      "source": [
        "# Contando el número de elementos en var6\n",
        "len(var6)"
      ],
      "metadata": {
        "colab": {
          "base_uri": "https://localhost:8080/"
        },
        "id": "sRrDaT6_jWbU",
        "outputId": "79b09d19-92f1-45c8-d0e6-dced1f20e89e"
      },
      "execution_count": null,
      "outputs": [
        {
          "output_type": "execute_result",
          "data": {
            "text/plain": [
              "24"
            ]
          },
          "metadata": {},
          "execution_count": 53
        }
      ]
    },
    {
      "cell_type": "code",
      "source": [
        "len(tupla)"
      ],
      "metadata": {
        "colab": {
          "base_uri": "https://localhost:8080/"
        },
        "id": "qEDmzM64js2g",
        "outputId": "d0eeaee3-e85e-49e5-aeb9-8893584e159b"
      },
      "execution_count": null,
      "outputs": [
        {
          "output_type": "execute_result",
          "data": {
            "text/plain": [
              "3"
            ]
          },
          "metadata": {},
          "execution_count": 54
        }
      ]
    },
    {
      "cell_type": "code",
      "source": [
        "var6[24-1], var6[23]"
      ],
      "metadata": {
        "colab": {
          "base_uri": "https://localhost:8080/"
        },
        "id": "O9wMwkMWjzmH",
        "outputId": "5692b1e3-a02e-4a94-fdea-c3795e24467e"
      },
      "execution_count": null,
      "outputs": [
        {
          "output_type": "execute_result",
          "data": {
            "text/plain": [
              "('a', 'a')"
            ]
          },
          "metadata": {},
          "execution_count": 58
        }
      ]
    },
    {
      "cell_type": "markdown",
      "source": [
        "# Funciones preprogramadas (Built-in Functions)\n",
        "https://docs.python.org/3/library/functions.html"
      ],
      "metadata": {
        "id": "f7r_4Lilk5mQ"
      }
    },
    {
      "cell_type": "code",
      "source": [
        "# type() -> Nos indicará el tipo de objeto\n",
        "type(var1)"
      ],
      "metadata": {
        "colab": {
          "base_uri": "https://localhost:8080/"
        },
        "id": "ufRSCVNXj3R2",
        "outputId": "410ee8d2-8597-4e55-8170-02bbbc255ebd"
      },
      "execution_count": null,
      "outputs": [
        {
          "output_type": "execute_result",
          "data": {
            "text/plain": [
              "int"
            ]
          },
          "metadata": {},
          "execution_count": 59
        }
      ]
    },
    {
      "cell_type": "code",
      "source": [
        "type(var1), type(var2), type(var3), type(var4), type(var5)"
      ],
      "metadata": {
        "colab": {
          "base_uri": "https://localhost:8080/"
        },
        "id": "RxKOQhVtltjm",
        "outputId": "0e971bd0-1a7b-401f-f496-715fc283a3c7"
      },
      "execution_count": null,
      "outputs": [
        {
          "output_type": "execute_result",
          "data": {
            "text/plain": [
              "(int, float, str, bool, int)"
            ]
          },
          "metadata": {},
          "execution_count": 60
        }
      ]
    },
    {
      "cell_type": "code",
      "source": [
        "type(tupla)"
      ],
      "metadata": {
        "colab": {
          "base_uri": "https://localhost:8080/"
        },
        "id": "66PBlO7Sl091",
        "outputId": "28ef4ea0-a1be-4188-fbde-a2275d1ed1e6"
      },
      "execution_count": null,
      "outputs": [
        {
          "output_type": "execute_result",
          "data": {
            "text/plain": [
              "tuple"
            ]
          },
          "metadata": {},
          "execution_count": 61
        }
      ]
    },
    {
      "cell_type": "code",
      "source": [
        "import numpy as np\n",
        "type(np)"
      ],
      "metadata": {
        "colab": {
          "base_uri": "https://localhost:8080/"
        },
        "id": "BItdAi7gl6qA",
        "outputId": "5f4eb7d4-ba7b-454b-a91a-f9789c70d9a3"
      },
      "execution_count": null,
      "outputs": [
        {
          "output_type": "execute_result",
          "data": {
            "text/plain": [
              "module"
            ]
          },
          "metadata": {},
          "execution_count": 63
        }
      ]
    },
    {
      "cell_type": "code",
      "source": [
        "type(print)"
      ],
      "metadata": {
        "colab": {
          "base_uri": "https://localhost:8080/"
        },
        "id": "dK-8ieUhl7t7",
        "outputId": "ee8bc97b-5555-4686-b58f-ced50de4e3e9"
      },
      "execution_count": null,
      "outputs": [
        {
          "output_type": "execute_result",
          "data": {
            "text/plain": [
              "builtin_function_or_method"
            ]
          },
          "metadata": {},
          "execution_count": 64
        }
      ]
    },
    {
      "cell_type": "code",
      "source": [
        "# Las clases se van a identificar como type\n",
        "type(type)"
      ],
      "metadata": {
        "colab": {
          "base_uri": "https://localhost:8080/"
        },
        "id": "J1tBu2BHmP4J",
        "outputId": "f557105b-d898-4e2c-80c4-13b246f6e80c"
      },
      "execution_count": null,
      "outputs": [
        {
          "output_type": "execute_result",
          "data": {
            "text/plain": [
              "type"
            ]
          },
          "metadata": {},
          "execution_count": 65
        }
      ]
    },
    {
      "cell_type": "code",
      "source": [
        "# help\n",
        "help(var1)"
      ],
      "metadata": {
        "colab": {
          "base_uri": "https://localhost:8080/"
        },
        "collapsed": true,
        "id": "nX6c44TDmTGB",
        "outputId": "8236ac1a-1549-4426-f5b5-c083c3dc3bd1"
      },
      "execution_count": null,
      "outputs": [
        {
          "output_type": "stream",
          "name": "stdout",
          "text": [
            "Help on int object:\n",
            "\n",
            "class int(object)\n",
            " |  int([x]) -> integer\n",
            " |  int(x, base=10) -> integer\n",
            " |  \n",
            " |  Convert a number or string to an integer, or return 0 if no arguments\n",
            " |  are given.  If x is a number, return x.__int__().  For floating point\n",
            " |  numbers, this truncates towards zero.\n",
            " |  \n",
            " |  If x is not a number or if base is given, then x must be a string,\n",
            " |  bytes, or bytearray instance representing an integer literal in the\n",
            " |  given base.  The literal can be preceded by '+' or '-' and be surrounded\n",
            " |  by whitespace.  The base defaults to 10.  Valid bases are 0 and 2-36.\n",
            " |  Base 0 means to interpret the base from the string as an integer literal.\n",
            " |  >>> int('0b100', base=0)\n",
            " |  4\n",
            " |  \n",
            " |  Built-in subclasses:\n",
            " |      bool\n",
            " |  \n",
            " |  Methods defined here:\n",
            " |  \n",
            " |  __abs__(self, /)\n",
            " |      abs(self)\n",
            " |  \n",
            " |  __add__(self, value, /)\n",
            " |      Return self+value.\n",
            " |  \n",
            " |  __and__(self, value, /)\n",
            " |      Return self&value.\n",
            " |  \n",
            " |  __bool__(self, /)\n",
            " |      True if self else False\n",
            " |  \n",
            " |  __ceil__(...)\n",
            " |      Ceiling of an Integral returns itself.\n",
            " |  \n",
            " |  __divmod__(self, value, /)\n",
            " |      Return divmod(self, value).\n",
            " |  \n",
            " |  __eq__(self, value, /)\n",
            " |      Return self==value.\n",
            " |  \n",
            " |  __float__(self, /)\n",
            " |      float(self)\n",
            " |  \n",
            " |  __floor__(...)\n",
            " |      Flooring an Integral returns itself.\n",
            " |  \n",
            " |  __floordiv__(self, value, /)\n",
            " |      Return self//value.\n",
            " |  \n",
            " |  __format__(self, format_spec, /)\n",
            " |      Default object formatter.\n",
            " |  \n",
            " |  __ge__(self, value, /)\n",
            " |      Return self>=value.\n",
            " |  \n",
            " |  __getattribute__(self, name, /)\n",
            " |      Return getattr(self, name).\n",
            " |  \n",
            " |  __getnewargs__(self, /)\n",
            " |  \n",
            " |  __gt__(self, value, /)\n",
            " |      Return self>value.\n",
            " |  \n",
            " |  __hash__(self, /)\n",
            " |      Return hash(self).\n",
            " |  \n",
            " |  __index__(self, /)\n",
            " |      Return self converted to an integer, if self is suitable for use as an index into a list.\n",
            " |  \n",
            " |  __int__(self, /)\n",
            " |      int(self)\n",
            " |  \n",
            " |  __invert__(self, /)\n",
            " |      ~self\n",
            " |  \n",
            " |  __le__(self, value, /)\n",
            " |      Return self<=value.\n",
            " |  \n",
            " |  __lshift__(self, value, /)\n",
            " |      Return self<<value.\n",
            " |  \n",
            " |  __lt__(self, value, /)\n",
            " |      Return self<value.\n",
            " |  \n",
            " |  __mod__(self, value, /)\n",
            " |      Return self%value.\n",
            " |  \n",
            " |  __mul__(self, value, /)\n",
            " |      Return self*value.\n",
            " |  \n",
            " |  __ne__(self, value, /)\n",
            " |      Return self!=value.\n",
            " |  \n",
            " |  __neg__(self, /)\n",
            " |      -self\n",
            " |  \n",
            " |  __or__(self, value, /)\n",
            " |      Return self|value.\n",
            " |  \n",
            " |  __pos__(self, /)\n",
            " |      +self\n",
            " |  \n",
            " |  __pow__(self, value, mod=None, /)\n",
            " |      Return pow(self, value, mod).\n",
            " |  \n",
            " |  __radd__(self, value, /)\n",
            " |      Return value+self.\n",
            " |  \n",
            " |  __rand__(self, value, /)\n",
            " |      Return value&self.\n",
            " |  \n",
            " |  __rdivmod__(self, value, /)\n",
            " |      Return divmod(value, self).\n",
            " |  \n",
            " |  __repr__(self, /)\n",
            " |      Return repr(self).\n",
            " |  \n",
            " |  __rfloordiv__(self, value, /)\n",
            " |      Return value//self.\n",
            " |  \n",
            " |  __rlshift__(self, value, /)\n",
            " |      Return value<<self.\n",
            " |  \n",
            " |  __rmod__(self, value, /)\n",
            " |      Return value%self.\n",
            " |  \n",
            " |  __rmul__(self, value, /)\n",
            " |      Return value*self.\n",
            " |  \n",
            " |  __ror__(self, value, /)\n",
            " |      Return value|self.\n",
            " |  \n",
            " |  __round__(...)\n",
            " |      Rounding an Integral returns itself.\n",
            " |      \n",
            " |      Rounding with an ndigits argument also returns an integer.\n",
            " |  \n",
            " |  __rpow__(self, value, mod=None, /)\n",
            " |      Return pow(value, self, mod).\n",
            " |  \n",
            " |  __rrshift__(self, value, /)\n",
            " |      Return value>>self.\n",
            " |  \n",
            " |  __rshift__(self, value, /)\n",
            " |      Return self>>value.\n",
            " |  \n",
            " |  __rsub__(self, value, /)\n",
            " |      Return value-self.\n",
            " |  \n",
            " |  __rtruediv__(self, value, /)\n",
            " |      Return value/self.\n",
            " |  \n",
            " |  __rxor__(self, value, /)\n",
            " |      Return value^self.\n",
            " |  \n",
            " |  __sizeof__(self, /)\n",
            " |      Returns size in memory, in bytes.\n",
            " |  \n",
            " |  __sub__(self, value, /)\n",
            " |      Return self-value.\n",
            " |  \n",
            " |  __truediv__(self, value, /)\n",
            " |      Return self/value.\n",
            " |  \n",
            " |  __trunc__(...)\n",
            " |      Truncating an Integral returns itself.\n",
            " |  \n",
            " |  __xor__(self, value, /)\n",
            " |      Return self^value.\n",
            " |  \n",
            " |  as_integer_ratio(self, /)\n",
            " |      Return integer ratio.\n",
            " |      \n",
            " |      Return a pair of integers, whose ratio is exactly equal to the original int\n",
            " |      and with a positive denominator.\n",
            " |      \n",
            " |      >>> (10).as_integer_ratio()\n",
            " |      (10, 1)\n",
            " |      >>> (-10).as_integer_ratio()\n",
            " |      (-10, 1)\n",
            " |      >>> (0).as_integer_ratio()\n",
            " |      (0, 1)\n",
            " |  \n",
            " |  bit_count(self, /)\n",
            " |      Number of ones in the binary representation of the absolute value of self.\n",
            " |      \n",
            " |      Also known as the population count.\n",
            " |      \n",
            " |      >>> bin(13)\n",
            " |      '0b1101'\n",
            " |      >>> (13).bit_count()\n",
            " |      3\n",
            " |  \n",
            " |  bit_length(self, /)\n",
            " |      Number of bits necessary to represent self in binary.\n",
            " |      \n",
            " |      >>> bin(37)\n",
            " |      '0b100101'\n",
            " |      >>> (37).bit_length()\n",
            " |      6\n",
            " |  \n",
            " |  conjugate(...)\n",
            " |      Returns self, the complex conjugate of any int.\n",
            " |  \n",
            " |  to_bytes(self, /, length, byteorder, *, signed=False)\n",
            " |      Return an array of bytes representing an integer.\n",
            " |      \n",
            " |      length\n",
            " |        Length of bytes object to use.  An OverflowError is raised if the\n",
            " |        integer is not representable with the given number of bytes.\n",
            " |      byteorder\n",
            " |        The byte order used to represent the integer.  If byteorder is 'big',\n",
            " |        the most significant byte is at the beginning of the byte array.  If\n",
            " |        byteorder is 'little', the most significant byte is at the end of the\n",
            " |        byte array.  To request the native byte order of the host system, use\n",
            " |        `sys.byteorder' as the byte order value.\n",
            " |      signed\n",
            " |        Determines whether two's complement is used to represent the integer.\n",
            " |        If signed is False and a negative integer is given, an OverflowError\n",
            " |        is raised.\n",
            " |  \n",
            " |  ----------------------------------------------------------------------\n",
            " |  Class methods defined here:\n",
            " |  \n",
            " |  from_bytes(bytes, byteorder, *, signed=False) from builtins.type\n",
            " |      Return the integer represented by the given array of bytes.\n",
            " |      \n",
            " |      bytes\n",
            " |        Holds the array of bytes to convert.  The argument must either\n",
            " |        support the buffer protocol or be an iterable object producing bytes.\n",
            " |        Bytes and bytearray are examples of built-in objects that support the\n",
            " |        buffer protocol.\n",
            " |      byteorder\n",
            " |        The byte order used to represent the integer.  If byteorder is 'big',\n",
            " |        the most significant byte is at the beginning of the byte array.  If\n",
            " |        byteorder is 'little', the most significant byte is at the end of the\n",
            " |        byte array.  To request the native byte order of the host system, use\n",
            " |        `sys.byteorder' as the byte order value.\n",
            " |      signed\n",
            " |        Indicates whether two's complement is used to represent the integer.\n",
            " |  \n",
            " |  ----------------------------------------------------------------------\n",
            " |  Static methods defined here:\n",
            " |  \n",
            " |  __new__(*args, **kwargs) from builtins.type\n",
            " |      Create and return a new object.  See help(type) for accurate signature.\n",
            " |  \n",
            " |  ----------------------------------------------------------------------\n",
            " |  Data descriptors defined here:\n",
            " |  \n",
            " |  denominator\n",
            " |      the denominator of a rational number in lowest terms\n",
            " |  \n",
            " |  imag\n",
            " |      the imaginary part of a complex number\n",
            " |  \n",
            " |  numerator\n",
            " |      the numerator of a rational number in lowest terms\n",
            " |  \n",
            " |  real\n",
            " |      the real part of a complex number\n",
            "\n"
          ]
        }
      ]
    },
    {
      "cell_type": "code",
      "source": [
        "#?var1"
      ],
      "metadata": {
        "id": "JEmrBp8HmoSc"
      },
      "execution_count": null,
      "outputs": []
    },
    {
      "cell_type": "code",
      "source": [
        "# dir -> Mostrará una lista con todas las herramientas\n",
        "#        disponibles en el objeto\n",
        "#        Los atributos con doble guión bajo son atributos especiales\n",
        "#        Los que no tienen guión bajo pueden ser métodos o atributos\n",
        "print(dir(tupla))"
      ],
      "metadata": {
        "colab": {
          "base_uri": "https://localhost:8080/"
        },
        "id": "ipOw0KNTm6rx",
        "outputId": "fed5cc51-3486-4199-9c46-a2a967f59a19"
      },
      "execution_count": null,
      "outputs": [
        {
          "output_type": "stream",
          "name": "stdout",
          "text": [
            "['__add__', '__class__', '__class_getitem__', '__contains__', '__delattr__', '__dir__', '__doc__', '__eq__', '__format__', '__ge__', '__getattribute__', '__getitem__', '__getnewargs__', '__gt__', '__hash__', '__init__', '__init_subclass__', '__iter__', '__le__', '__len__', '__lt__', '__mul__', '__ne__', '__new__', '__reduce__', '__reduce_ex__', '__repr__', '__rmul__', '__setattr__', '__sizeof__', '__str__', '__subclasshook__', 'count', 'index']\n"
          ]
        }
      ]
    },
    {
      "cell_type": "code",
      "source": [
        "# len -> Nos indicará el número de elementos en un objeto iterable\n",
        "len(var6)"
      ],
      "metadata": {
        "colab": {
          "base_uri": "https://localhost:8080/"
        },
        "id": "Of-b9yZUnCk1",
        "outputId": "9cc20a3b-b36f-45f4-db0e-a9f53a561ad6"
      },
      "execution_count": null,
      "outputs": [
        {
          "output_type": "execute_result",
          "data": {
            "text/plain": [
              "24"
            ]
          },
          "metadata": {},
          "execution_count": 74
        }
      ]
    },
    {
      "cell_type": "code",
      "source": [
        "len(tupla)"
      ],
      "metadata": {
        "colab": {
          "base_uri": "https://localhost:8080/"
        },
        "id": "GGB1cOWKn_0m",
        "outputId": "1f15a790-b4e7-41fc-ea55-29f3b1dc39cc"
      },
      "execution_count": null,
      "outputs": [
        {
          "output_type": "execute_result",
          "data": {
            "text/plain": [
              "3"
            ]
          },
          "metadata": {},
          "execution_count": 76
        }
      ]
    },
    {
      "cell_type": "code",
      "source": [
        "# input -> Solicitar información por medio del teclado\n",
        "dato=input(\"¿Cuál es tu nombre? \")\n",
        "print(\"Mucho gusto\", dato)"
      ],
      "metadata": {
        "colab": {
          "base_uri": "https://localhost:8080/"
        },
        "id": "Jrd3B6LGoBTc",
        "outputId": "74aa740f-c60b-49d3-8c9a-6954f7a72f85"
      },
      "execution_count": null,
      "outputs": [
        {
          "output_type": "stream",
          "name": "stdout",
          "text": [
            "¿Cuál es tu nombre? Edgar\n",
            "Mucho gusto Edgar\n"
          ]
        }
      ]
    },
    {
      "cell_type": "code",
      "source": [
        "# range -> Generará un rango de números enteros\n",
        "#          Por defecto siempre iniciará en 0\n",
        "#          Por regla siempre terminará en el valor indicado -1\n",
        "range(10)"
      ],
      "metadata": {
        "colab": {
          "base_uri": "https://localhost:8080/"
        },
        "id": "viyLCdE_oTRK",
        "outputId": "e3f386de-dc89-41e4-d7a6-c2c798160782"
      },
      "execution_count": null,
      "outputs": [
        {
          "output_type": "execute_result",
          "data": {
            "text/plain": [
              "range(0, 10)"
            ]
          },
          "metadata": {},
          "execution_count": 79
        }
      ]
    },
    {
      "cell_type": "code",
      "source": [
        "list(range(10))"
      ],
      "metadata": {
        "colab": {
          "base_uri": "https://localhost:8080/"
        },
        "id": "L588BJDHo3_f",
        "outputId": "ef656d75-065d-463d-c06a-320db2c02be9"
      },
      "execution_count": null,
      "outputs": [
        {
          "output_type": "execute_result",
          "data": {
            "text/plain": [
              "[0, 1, 2, 3, 4, 5, 6, 7, 8, 9]"
            ]
          },
          "metadata": {},
          "execution_count": 80
        }
      ]
    },
    {
      "cell_type": "code",
      "source": [
        "list(filter(lambda x: x<5, range(10)))"
      ],
      "metadata": {
        "colab": {
          "base_uri": "https://localhost:8080/"
        },
        "id": "abBSjcKjpl5h",
        "outputId": "4b6a7c3e-fc35-4b21-be5d-d9ab4975857a"
      },
      "execution_count": null,
      "outputs": [
        {
          "output_type": "execute_result",
          "data": {
            "text/plain": [
              "[0, 1, 2, 3, 4]"
            ]
          },
          "metadata": {},
          "execution_count": 82
        }
      ]
    },
    {
      "cell_type": "code",
      "source": [
        "# Modificando los valores por defecto de\n",
        "# range(inicio, final, [salto])\n",
        "list(range(5,10))"
      ],
      "metadata": {
        "colab": {
          "base_uri": "https://localhost:8080/"
        },
        "id": "rKbCs9ieo735",
        "outputId": "2879ff04-a3e5-4439-beff-5972c045e959"
      },
      "execution_count": null,
      "outputs": [
        {
          "output_type": "execute_result",
          "data": {
            "text/plain": [
              "[5, 6, 7, 8, 9]"
            ]
          },
          "metadata": {},
          "execution_count": 86
        }
      ]
    },
    {
      "cell_type": "code",
      "source": [
        "list(range(2,10,2))"
      ],
      "metadata": {
        "colab": {
          "base_uri": "https://localhost:8080/"
        },
        "id": "rrW21rEkplfw",
        "outputId": "3858bbe6-38eb-42bb-da82-a29acfd5c1e0"
      },
      "execution_count": null,
      "outputs": [
        {
          "output_type": "execute_result",
          "data": {
            "text/plain": [
              "[2, 4, 6, 8]"
            ]
          },
          "metadata": {},
          "execution_count": 87
        }
      ]
    },
    {
      "cell_type": "code",
      "source": [
        "# round -> Redondea un número a la cantidad de decimales indicada\n",
        "round(np.pi,2), round(np.pi,5), round(np.pi,8)"
      ],
      "metadata": {
        "colab": {
          "base_uri": "https://localhost:8080/"
        },
        "id": "YTxX9aXDplZ7",
        "outputId": "2e86fa63-181b-471c-ed76-a059b13283df"
      },
      "execution_count": null,
      "outputs": [
        {
          "output_type": "execute_result",
          "data": {
            "text/plain": [
              "(3.14, 3.14159, 3.14159265)"
            ]
          },
          "metadata": {},
          "execution_count": 90
        }
      ]
    },
    {
      "cell_type": "code",
      "source": [
        "# min, max, sum, abs"
      ],
      "metadata": {
        "id": "FnwMJBqTqsRm"
      },
      "execution_count": null,
      "outputs": []
    },
    {
      "cell_type": "markdown",
      "source": [
        "# Slicing [ ] ▶ Cortando un objeto iterable"
      ],
      "metadata": {
        "id": "gKZPoKKgrD9A"
      }
    },
    {
      "cell_type": "code",
      "source": [
        "var6"
      ],
      "metadata": {
        "colab": {
          "base_uri": "https://localhost:8080/",
          "height": 36
        },
        "id": "pmM8jxzVrKwl",
        "outputId": "e50e751f-4904-457d-f178-91381672a526"
      },
      "execution_count": null,
      "outputs": [
        {
          "output_type": "execute_result",
          "data": {
            "text/plain": [
              "'Universidad Panamericana'"
            ],
            "application/vnd.google.colaboratory.intrinsic+json": {
              "type": "string"
            }
          },
          "metadata": {},
          "execution_count": 91
        }
      ]
    },
    {
      "cell_type": "code",
      "source": [
        "# Accediendo a la letra P en el texto\n",
        "var6[13-1]"
      ],
      "metadata": {
        "colab": {
          "base_uri": "https://localhost:8080/",
          "height": 36
        },
        "id": "rz0y93KHrOa9",
        "outputId": "4124473a-3452-4cee-d6bc-6b90638ba334"
      },
      "execution_count": null,
      "outputs": [
        {
          "output_type": "execute_result",
          "data": {
            "text/plain": [
              "'P'"
            ],
            "application/vnd.google.colaboratory.intrinsic+json": {
              "type": "string"
            }
          },
          "metadata": {},
          "execution_count": 92
        }
      ]
    },
    {
      "cell_type": "code",
      "source": [
        "# Recordar que la numeración indexada va de\n",
        "# izquierda a derecha\n",
        "var6[22]"
      ],
      "metadata": {
        "colab": {
          "base_uri": "https://localhost:8080/",
          "height": 36
        },
        "id": "4xt6eGzjrwjH",
        "outputId": "a3bfe48c-26fa-41de-afaa-2a47a26d99f2"
      },
      "execution_count": null,
      "outputs": [
        {
          "output_type": "execute_result",
          "data": {
            "text/plain": [
              "'n'"
            ],
            "application/vnd.google.colaboratory.intrinsic+json": {
              "type": "string"
            }
          },
          "metadata": {},
          "execution_count": 93
        }
      ]
    },
    {
      "cell_type": "code",
      "source": [
        "# Recordar que la numeración indexada de\n",
        "# derecha a izquierda usará valores negativos\n",
        "# En la numeración negativa no se considera el 0\n",
        "var6[-2]"
      ],
      "metadata": {
        "colab": {
          "base_uri": "https://localhost:8080/",
          "height": 36
        },
        "id": "FCQiY_0rr_Ql",
        "outputId": "b64d3cbc-3a1b-47e3-97f1-47d697735830"
      },
      "execution_count": null,
      "outputs": [
        {
          "output_type": "execute_result",
          "data": {
            "text/plain": [
              "'n'"
            ],
            "application/vnd.google.colaboratory.intrinsic+json": {
              "type": "string"
            }
          },
          "metadata": {},
          "execution_count": 94
        }
      ]
    },
    {
      "cell_type": "code",
      "source": [
        "# Obteniendo la U con índice negativo\n",
        "var6[-24]"
      ],
      "metadata": {
        "colab": {
          "base_uri": "https://localhost:8080/",
          "height": 36
        },
        "id": "nzJPGO1ZsSy_",
        "outputId": "c75044d3-02fe-4060-dac5-659157cfd8bb"
      },
      "execution_count": null,
      "outputs": [
        {
          "output_type": "execute_result",
          "data": {
            "text/plain": [
              "'U'"
            ],
            "application/vnd.google.colaboratory.intrinsic+json": {
              "type": "string"
            }
          },
          "metadata": {},
          "execution_count": 95
        }
      ]
    },
    {
      "cell_type": "code",
      "source": [
        "var6[-len(var6)]"
      ],
      "metadata": {
        "colab": {
          "base_uri": "https://localhost:8080/",
          "height": 36
        },
        "id": "CQ0nAIBos3bS",
        "outputId": "1c959c7d-9a56-4e4b-c4ef-4ef1cebdeb6a"
      },
      "execution_count": null,
      "outputs": [
        {
          "output_type": "execute_result",
          "data": {
            "text/plain": [
              "'U'"
            ],
            "application/vnd.google.colaboratory.intrinsic+json": {
              "type": "string"
            }
          },
          "metadata": {},
          "execution_count": 96
        }
      ]
    },
    {
      "cell_type": "code",
      "source": [
        "# Obteniendo elementos múltiples [inicio:final]\n",
        "# El inicio es indexado\n",
        "# El final es posicional\n",
        "var6[0:11]"
      ],
      "metadata": {
        "colab": {
          "base_uri": "https://localhost:8080/",
          "height": 36
        },
        "id": "eo1xb3xps7f8",
        "outputId": "2df76005-9797-4477-cdde-c5d433e30cd4"
      },
      "execution_count": null,
      "outputs": [
        {
          "output_type": "execute_result",
          "data": {
            "text/plain": [
              "'Universidad'"
            ],
            "application/vnd.google.colaboratory.intrinsic+json": {
              "type": "string"
            }
          },
          "metadata": {},
          "execution_count": 98
        }
      ]
    },
    {
      "cell_type": "code",
      "source": [
        "var6[12:24]"
      ],
      "metadata": {
        "colab": {
          "base_uri": "https://localhost:8080/",
          "height": 36
        },
        "id": "ETNxzUqJtsBn",
        "outputId": "cb33b06a-ed37-43c2-a472-637ac68a32f5"
      },
      "execution_count": null,
      "outputs": [
        {
          "output_type": "execute_result",
          "data": {
            "text/plain": [
              "'Panamericana'"
            ],
            "application/vnd.google.colaboratory.intrinsic+json": {
              "type": "string"
            }
          },
          "metadata": {},
          "execution_count": 103
        }
      ]
    },
    {
      "cell_type": "code",
      "source": [
        "var6[12:len(var6)]"
      ],
      "metadata": {
        "colab": {
          "base_uri": "https://localhost:8080/",
          "height": 36
        },
        "id": "pCaUgAFTtZ-o",
        "outputId": "9af3388b-6a50-4ac2-b650-8d903f9d96e5"
      },
      "execution_count": null,
      "outputs": [
        {
          "output_type": "execute_result",
          "data": {
            "text/plain": [
              "'Panamericana'"
            ],
            "application/vnd.google.colaboratory.intrinsic+json": {
              "type": "string"
            }
          },
          "metadata": {},
          "execution_count": 101
        }
      ]
    },
    {
      "cell_type": "code",
      "source": [
        "# Corte que va desde el inicio hasta x posición\n",
        "var6[:11]"
      ],
      "metadata": {
        "colab": {
          "base_uri": "https://localhost:8080/",
          "height": 36
        },
        "id": "aNEcy4S4tlhB",
        "outputId": "ccf3df82-65e4-4343-b42c-8991110c1a05"
      },
      "execution_count": null,
      "outputs": [
        {
          "output_type": "execute_result",
          "data": {
            "text/plain": [
              "'Universidad'"
            ],
            "application/vnd.google.colaboratory.intrinsic+json": {
              "type": "string"
            }
          },
          "metadata": {},
          "execution_count": 104
        }
      ]
    },
    {
      "cell_type": "code",
      "source": [
        "# Corte que va desde x posición hasta el final\n",
        "var6[12:]"
      ],
      "metadata": {
        "colab": {
          "base_uri": "https://localhost:8080/",
          "height": 36
        },
        "id": "cLUsXAg_uYxl",
        "outputId": "7949a0d4-d0bc-41e3-c218-6c599c7d0e52"
      },
      "execution_count": null,
      "outputs": [
        {
          "output_type": "execute_result",
          "data": {
            "text/plain": [
              "'Panamericana'"
            ],
            "application/vnd.google.colaboratory.intrinsic+json": {
              "type": "string"
            }
          },
          "metadata": {},
          "execution_count": 105
        }
      ]
    },
    {
      "cell_type": "code",
      "source": [
        "# Corte que va desde el inicio hasta el final\n",
        "var6[:]"
      ],
      "metadata": {
        "colab": {
          "base_uri": "https://localhost:8080/",
          "height": 36
        },
        "id": "XSjovW30ud1K",
        "outputId": "54992204-ecc2-4e83-b380-a08515d6532a"
      },
      "execution_count": null,
      "outputs": [
        {
          "output_type": "execute_result",
          "data": {
            "text/plain": [
              "'Universidad Panamericana'"
            ],
            "application/vnd.google.colaboratory.intrinsic+json": {
              "type": "string"
            }
          },
          "metadata": {},
          "execution_count": 106
        }
      ]
    },
    {
      "cell_type": "code",
      "source": [
        "var6[:-13]"
      ],
      "metadata": {
        "colab": {
          "base_uri": "https://localhost:8080/",
          "height": 36
        },
        "id": "JRxvWqwIurz2",
        "outputId": "90c4193b-b761-4a22-f732-f3ca6fdcd9e3"
      },
      "execution_count": null,
      "outputs": [
        {
          "output_type": "execute_result",
          "data": {
            "text/plain": [
              "'Universidad'"
            ],
            "application/vnd.google.colaboratory.intrinsic+json": {
              "type": "string"
            }
          },
          "metadata": {},
          "execution_count": 108
        }
      ]
    },
    {
      "cell_type": "code",
      "source": [
        "# ¿Cómo escribir la palabra Universo utilizando\n",
        "# los caracteres de var6 y concatenando los caracteres\n",
        "# faltantes?\n",
        "var6[:7] + \"o\""
      ],
      "metadata": {
        "colab": {
          "base_uri": "https://localhost:8080/",
          "height": 36
        },
        "id": "5ocH0zzWu2kU",
        "outputId": "9cd54440-0647-42a3-f4c9-a08fbbf8456a"
      },
      "execution_count": null,
      "outputs": [
        {
          "output_type": "execute_result",
          "data": {
            "text/plain": [
              "'Universo'"
            ],
            "application/vnd.google.colaboratory.intrinsic+json": {
              "type": "string"
            }
          },
          "metadata": {},
          "execution_count": 110
        }
      ]
    },
    {
      "cell_type": "code",
      "source": [
        "var6"
      ],
      "metadata": {
        "colab": {
          "base_uri": "https://localhost:8080/",
          "height": 36
        },
        "id": "MGNYI0PHv-fS",
        "outputId": "2cc32154-5f44-4fa3-90c4-cc44537caac7"
      },
      "execution_count": null,
      "outputs": [
        {
          "output_type": "execute_result",
          "data": {
            "text/plain": [
              "'Universidad Panamericana'"
            ],
            "application/vnd.google.colaboratory.intrinsic+json": {
              "type": "string"
            }
          },
          "metadata": {},
          "execution_count": 112
        }
      ]
    },
    {
      "cell_type": "code",
      "source": [
        "# ¿Cómo escribir la palabra diversidad utilizando\n",
        "# solamente los caracteres de var6?\n",
        "var6[10]+ var6[2:6] + var6[6:11]"
      ],
      "metadata": {
        "colab": {
          "base_uri": "https://localhost:8080/",
          "height": 36
        },
        "id": "jLjbykZvvc2R",
        "outputId": "b3d04e3a-61d9-4dfa-9178-3198a5646183"
      },
      "execution_count": null,
      "outputs": [
        {
          "output_type": "execute_result",
          "data": {
            "text/plain": [
              "'diversidad'"
            ],
            "application/vnd.google.colaboratory.intrinsic+json": {
              "type": "string"
            }
          },
          "metadata": {},
          "execution_count": 115
        }
      ]
    },
    {
      "cell_type": "code",
      "source": [
        "var6[8] + var6[2:11]"
      ],
      "metadata": {
        "colab": {
          "base_uri": "https://localhost:8080/",
          "height": 36
        },
        "id": "fxnS71kzv5cL",
        "outputId": "723887ef-3cf4-4738-8a13-47ffac8ffdc9"
      },
      "execution_count": null,
      "outputs": [
        {
          "output_type": "execute_result",
          "data": {
            "text/plain": [
              "'diversidad'"
            ],
            "application/vnd.google.colaboratory.intrinsic+json": {
              "type": "string"
            }
          },
          "metadata": {},
          "execution_count": 114
        }
      ]
    },
    {
      "cell_type": "code",
      "source": [
        "var6"
      ],
      "metadata": {
        "colab": {
          "base_uri": "https://localhost:8080/",
          "height": 36
        },
        "id": "PNyRLdcNxa2E",
        "outputId": "7f19a854-2e11-4551-f2b3-34f3fcce65a0"
      },
      "execution_count": null,
      "outputs": [
        {
          "output_type": "execute_result",
          "data": {
            "text/plain": [
              "'Universidad Panamericana'"
            ],
            "application/vnd.google.colaboratory.intrinsic+json": {
              "type": "string"
            }
          },
          "metadata": {},
          "execution_count": 116
        }
      ]
    },
    {
      "cell_type": "code",
      "source": [
        "# ¿Cómo escribir la palabra Impunidad utilizando\n",
        "# solamente los caracteres de var6?\n",
        "var6[2].upper() + var6[16] + var6[12].lower() + var6[:3].lower() + var6[8:12]"
      ],
      "metadata": {
        "colab": {
          "base_uri": "https://localhost:8080/",
          "height": 36
        },
        "id": "YqaEIMtPwY2l",
        "outputId": "cd9c4062-3e4d-4b07-c67c-cb21ba90b275"
      },
      "execution_count": null,
      "outputs": [
        {
          "output_type": "execute_result",
          "data": {
            "text/plain": [
              "'Impunidad '"
            ],
            "application/vnd.google.colaboratory.intrinsic+json": {
              "type": "string"
            }
          },
          "metadata": {},
          "execution_count": 119
        }
      ]
    },
    {
      "cell_type": "code",
      "source": [
        "# Funciones ≠ Métodos\n",
        "# Funciones existen por si mismas\n",
        "# Métodos solo existen dentro de un objeto\n",
        "\n",
        "# upper(var6[2])"
      ],
      "metadata": {
        "id": "p0NJtWx7xwVn"
      },
      "execution_count": null,
      "outputs": []
    },
    {
      "cell_type": "code",
      "source": [
        "var6.index(\"m\")"
      ],
      "metadata": {
        "colab": {
          "base_uri": "https://localhost:8080/"
        },
        "id": "x8ViZfony25A",
        "outputId": "18149711-c6c7-442b-a691-b13464fbbf62"
      },
      "execution_count": null,
      "outputs": [
        {
          "output_type": "execute_result",
          "data": {
            "text/plain": [
              "16"
            ]
          },
          "metadata": {},
          "execution_count": 124
        }
      ]
    },
    {
      "cell_type": "markdown",
      "source": [
        "<img src=\"https://www.luther.edu/wp-content/uploads/2023/02/address-envelope.jpg\" width=400>"
      ],
      "metadata": {
        "id": "C9ggcsZl0FAD"
      }
    },
    {
      "cell_type": "code",
      "source": [
        "# Solicitud de datos del que manda\n",
        "# variable = operacion\n",
        "nombre=input(\"¿Quién envia la carta? \")\n",
        "#direccion=input(\"¿De dónde se manda la carta?\")"
      ],
      "metadata": {
        "colab": {
          "base_uri": "https://localhost:8080/"
        },
        "id": "FrBdTZdY1mY5",
        "outputId": "e5af2b7e-ce86-446d-b880-d4a364d20f47"
      },
      "execution_count": null,
      "outputs": [
        {
          "name": "stdout",
          "output_type": "stream",
          "text": [
            "¿Quién envia la carta? Edgar Avalos Gauna\n"
          ]
        }
      ]
    },
    {
      "cell_type": "code",
      "source": [
        "# Solicitud de datos del destino\n",
        "#nombre_dest=input(\"¿Quién recibe la carta? \")\n",
        "#direccion_dest=input(\"¿A dónde se manda la carta?\")"
      ],
      "metadata": {
        "id": "zNgcC6TV1mSt"
      },
      "execution_count": null,
      "outputs": []
    },
    {
      "cell_type": "code",
      "source": [
        "print(\"╔\",\"═\"*50,\"╗\", sep=\"\")\n",
        "print(\"║\",nombre + \" \"*(50-len(nombre)),\"║\", sep=\"\") # Nombre del que envía\n",
        "print(\"║\",\" \"*50,\"║\", sep=\"\") # Dirección del que envía\n",
        "print(\"║\",\" \"*50,\"║\", sep=\"\")\n",
        "print(\"║\",\" \"*50,\"║\", sep=\"\") # Nombre del que recibe\n",
        "print(\"║\",\" \"*50,\"║\", sep=\"\") # Dirección del que recibe\n",
        "print(\"╚\",\"═\"*50,\"╝\", sep=\"\")"
      ],
      "metadata": {
        "colab": {
          "base_uri": "https://localhost:8080/"
        },
        "id": "LpGDZ4eDzeFu",
        "outputId": "52547921-960d-436a-dfa9-004b87706830"
      },
      "execution_count": null,
      "outputs": [
        {
          "output_type": "stream",
          "name": "stdout",
          "text": [
            "╔══════════════════════════════════════════════════╗\n",
            "║Edgar Avalos Gauna                                ║\n",
            "║                                                  ║\n",
            "║                                                  ║\n",
            "║                                                  ║\n",
            "║                                                  ║\n",
            "╚══════════════════════════════════════════════════╝\n"
          ]
        }
      ]
    },
    {
      "cell_type": "code",
      "source": [],
      "metadata": {
        "id": "jT8wjymU09R1"
      },
      "execution_count": null,
      "outputs": []
    }
  ]
}